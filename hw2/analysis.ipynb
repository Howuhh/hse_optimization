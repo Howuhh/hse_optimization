{
 "cells": [
  {
   "cell_type": "code",
   "execution_count": 334,
   "metadata": {},
   "outputs": [
    {
     "name": "stdout",
     "output_type": "stream",
     "text": [
      "The autoreload extension is already loaded. To reload it, use:\n",
      "  %reload_ext autoreload\n"
     ]
    }
   ],
   "source": [
    "%load_ext autoreload\n",
    "\n",
    "%autoreload 2"
   ]
  },
  {
   "cell_type": "code",
   "execution_count": 335,
   "metadata": {},
   "outputs": [],
   "source": [
    "import warnings\n",
    "import numpy as np\n",
    "import matplotlib.pyplot as plt\n",
    "\n",
    "from tqdm import tqdm\n",
    "\n",
    "from oracle import make_oracle\n",
    "from optimize import optimize_newton, optimize_gd, optimize_hfn\n",
    "\n",
    "from sklearn.linear_model import LogisticRegression\n",
    "\n",
    "warnings.filterwarnings('ignore')\n",
    "np.random.seed(0)"
   ]
  },
  {
   "cell_type": "code",
   "execution_count": 352,
   "metadata": {},
   "outputs": [],
   "source": [
    "def plot_model(oracle, optimizers_param):\n",
    "    model = LogisticRegression(penalty=\"none\", tol=1e-8, max_iter=10000, n_jobs=-1, fit_intercept=False)\n",
    "    model.fit(oracle.X, oracle.y.ravel())\n",
    "    \n",
    "    entropy_true = oracle.value(model.coef_.reshape(-1, 1))\n",
    "    \n",
    "    w_n = oracle.X.shape[1]\n",
    "    w_init = np.random.uniform(size=(w_n, 1))\n",
    "    \n",
    "    fig, axs = plt.subplots(3, 1, figsize=(12, 18))\n",
    "    \n",
    "    for i, (name, log_feature, optimizer, line_search_methods, log_modulo) in enumerate(optimizers_param):\n",
    "        for line_search in line_search_methods:        \n",
    "            w, log = optimizer(oracle, w_init, line_search_method=line_search, log_modulo=log_modulo)\n",
    "            \n",
    "            if log_feature == \"n_iters\":\n",
    "                feature = np.arange(log.get_log()[\"time\"].shape[0]) * log_modulo\n",
    "            else:\n",
    "                feature = log.get_log()[log_feature]\n",
    "            \n",
    "            entropy = log.get_log()[\"entropy\"]\n",
    "\n",
    "            axs[i].plot(feature, np.log(np.abs(entropy - entropy_true)), \n",
    "                        label=f\"{line_search}: {np.round(np.min(entropy), 4)}\")\n",
    "    \n",
    "    for ax, param in zip(axs.flat, optimizers_param):\n",
    "        print(log_feature)\n",
    "        ax.set_title(param[0])\n",
    "        ax.set(xlabel=f\"{log_feature}\", ylabel=\"absolute error\")\n",
    "        ax.legend()"
   ]
  },
  {
   "cell_type": "markdown",
   "metadata": {},
   "source": [
    "# a1a dataset"
   ]
  },
  {
   "cell_type": "code",
   "execution_count": 358,
   "metadata": {},
   "outputs": [],
   "source": [
    "a1a_oracle = make_oracle()\n",
    "\n",
    "a1a_optim_params = [\n",
    "    (\"gradien descent\", \"n_iters\", optimize_gd, [\"golden\", \"brent\", \"armijo\", \"wolfe\", \"lipschitz\"], 100),\n",
    "#     (\"newton\", \"n_iters\", optimize_newton, [\"golden\", \"brent\", \"armijo\", \"wolfe\"], 1),\n",
    "#     (\"hessian-free newton\", \"n_iters\", optimize_hfn, [\"golden\", \"brent\", \"armijo\", \"wolfe\"], 1)\n",
    "]"
   ]
  },
  {
   "cell_type": "code",
   "execution_count": null,
   "metadata": {
    "scrolled": false
   },
   "outputs": [],
   "source": [
    "plot_model(a1a_oracle, a1a_optim_params)"
   ]
  }
 ],
 "metadata": {
  "kernelspec": {
   "display_name": "Python 3",
   "language": "python",
   "name": "python3"
  },
  "language_info": {
   "codemirror_mode": {
    "name": "ipython",
    "version": 3
   },
   "file_extension": ".py",
   "mimetype": "text/x-python",
   "name": "python",
   "nbconvert_exporter": "python",
   "pygments_lexer": "ipython3",
   "version": "3.7.4"
  }
 },
 "nbformat": 4,
 "nbformat_minor": 4
}
